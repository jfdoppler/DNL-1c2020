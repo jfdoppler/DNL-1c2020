{
  "nbformat": 4,
  "nbformat_minor": 0,
  "metadata": {
    "colab": {
      "name": "clase_sindy.ipynb",
      "provenance": [],
      "collapsed_sections": [],
      "toc_visible": true,
      "authorship_tag": "ABX9TyNE7GmyhFFFpwsvgE/53ISJ",
      "include_colab_link": true
    },
    "kernelspec": {
      "name": "python3",
      "display_name": "Python 3"
    }
  },
  "cells": [
    {
      "cell_type": "markdown",
      "metadata": {
        "id": "view-in-github",
        "colab_type": "text"
      },
      "source": [
        "<a href=\"https://colab.research.google.com/github/jfdoppler/DNL-1c2020/blob/master/clase_sindy.ipynb\" target=\"_parent\"><img src=\"https://colab.research.google.com/assets/colab-badge.svg\" alt=\"Open In Colab\"/></a>"
      ]
    },
    {
      "cell_type": "markdown",
      "metadata": {
        "id": "D-_gJHH2gzJ6",
        "colab_type": "text"
      },
      "source": [
        "# Sindy\n"
      ]
    },
    {
      "cell_type": "markdown",
      "metadata": {
        "id": "atkn6HOJneNB",
        "colab_type": "text"
      },
      "source": [
        "Hagamos el ejemplo del paper -> Lorenz caótico"
      ]
    },
    {
      "cell_type": "code",
      "metadata": {
        "id": "8bv1G0VeaijP",
        "colab_type": "code",
        "colab": {}
      },
      "source": [
        "# Importamos librerias\n",
        "import matplotlib.pyplot as plt\n",
        "import numpy as np\n",
        "from scipy.integrate import odeint\n",
        "from sklearn import linear_model\n",
        "import pandas as pd\n"
      ],
      "execution_count": null,
      "outputs": []
    },
    {
      "cell_type": "markdown",
      "metadata": {
        "id": "NGAN5DhDs-ZT",
        "colab_type": "text"
      },
      "source": [
        "## Generamos datos simulados de un sistema"
      ]
    },
    {
      "cell_type": "code",
      "metadata": {
        "id": "HoyWCKWws8mK",
        "colab_type": "code",
        "colab": {}
      },
      "source": [
        "# Definimos el sistema para generar los datos\n",
        "def lorenz(w, t, a, r, b):\n",
        "    x = w[0]\n",
        "    y = w[1]\n",
        "    z = w[2]\n",
        "    dxdt = a*(y-x)\n",
        "    dydt = x*(r-z) - y\n",
        "    dzdt = x*y - b*z\n",
        "    return [dxdt, dydt, dzdt]\n"
      ],
      "execution_count": null,
      "outputs": []
    },
    {
      "cell_type": "code",
      "metadata": {
        "id": "W2dS8D_dn49z",
        "colab_type": "code",
        "colab": {}
      },
      "source": [
        "# Le damos valores a los parámetros\n",
        "a = 10\n",
        "r = 28\n",
        "b = 8/3\n",
        "\n",
        "# Parámetros de la integración\n",
        "dt = 0.001\n",
        "tmax = 100\n",
        "t = np.arange(0, tmax, dt)\n",
        "# Condición inicial [x, y, z]\n",
        "zi = [-8.1, 7, 27]\n",
        "\n",
        "# Integramos\n",
        "sol = odeint(lorenz, zi, t, args=(a, r, b))"
      ],
      "execution_count": null,
      "outputs": []
    },
    {
      "cell_type": "code",
      "metadata": {
        "id": "nNaLuCB7bQkB",
        "colab_type": "code",
        "colab": {}
      },
      "source": [
        "xt = sol[:, 0]\n",
        "yt = sol[:, 1]\n",
        "zt = sol[:, 2]\n",
        "plt.plot(xt, zt)"
      ],
      "execution_count": null,
      "outputs": []
    },
    {
      "cell_type": "markdown",
      "metadata": {
        "id": "yWtJ0ebVtESP",
        "colab_type": "text"
      },
      "source": [
        "## Construimos las matrices para hacer la regresión lineal"
      ]
    },
    {
      "cell_type": "code",
      "metadata": {
        "id": "kzGadDQUmwDY",
        "colab_type": "code",
        "colab": {}
      },
      "source": [
        "# Construimos la matriz de derivadas\n",
        "xd = np.diff(xt)/dt\n",
        "yd = np.diff(yt)/dt\n",
        "zd = np.diff(zt)/dt\n",
        "derivs = np.array([xd, yd, zd]).T\n",
        "\n",
        "# Para que coincidan los tamaños dejamos de lado la condición inicial\n",
        "x = xt[1:]\n",
        "y = yt[1:]\n",
        "z = zt[1:]\n",
        "\n",
        "# Nos armamos la librería de funciones hasta el orden que querramos\n",
        "theta = np.zeros((len(x), 10))\n",
        "theta[:, 0] = np.ones_like(x)\n",
        "theta[:, 1] = x\n",
        "theta[:, 2] = y\n",
        "theta[:, 3] = z\n",
        "theta[:, 4] = x**2\n",
        "theta[:, 5] = x*y\n",
        "theta[:, 6] = x*z\n",
        "theta[:, 7] = y**2\n",
        "theta[:, 8] = z*y\n",
        "theta[:, 9] = z**2\n"
      ],
      "execution_count": null,
      "outputs": []
    },
    {
      "cell_type": "markdown",
      "metadata": {
        "id": "DtB9GKt-tMTm",
        "colab_type": "text"
      },
      "source": [
        "## Ajustamos con un [Lasso](https://scikit-learn.org/stable/modules/generated/sklearn.linear_model.Lasso.html#sklearn.linear_model.Lasso)"
      ]
    },
    {
      "cell_type": "code",
      "metadata": {
        "id": "r_BFb6PttLDN",
        "colab_type": "code",
        "colab": {
          "base_uri": "https://localhost:8080/",
          "height": 153
        },
        "outputId": "0b973c6d-54fd-4e93-aa85-4c6bb4683281"
      },
      "source": [
        "# Este es nuestro conjunto de funciones\n",
        "print('[1, x, y, z, x^2, xy, xz, y^2, zy, z^2]')\n",
        "\n",
        "# Valores reales del sistema de ecuaciones\n",
        "print('Real:')\n",
        "print('(x) [0, {}, {}, 0, 0, 0, 0, 0, 0, 0]'.format(-a, a))\n",
        "print('(y) [0, {}, -1, 0, 0, 0, -1, 0, 0, 0]'.format(r))\n",
        "print('(z) [0, 0, 0, {:.2f}, 0, 1, 0, 0, 0, 0]'.format(-b))\n",
        "\n",
        "# Definimos el tipo de regresión lineal\n",
        "alpha_reg = 0.001\n",
        "clf = linear_model.Lasso(alpha=alpha_reg, max_iter=100000000,\n",
        "                         fit_intercept=False, normalize=False)\n",
        "\n",
        "# Hacemos el ajuste\n",
        "clf.fit(theta, derivs)\n",
        "print(np.round(clf.coef_, 1))"
      ],
      "execution_count": null,
      "outputs": [
        {
          "output_type": "stream",
          "text": [
            "[1, x, y, z, x^2, xy, xz, y^2, zy, z^2]\n",
            "Real:\n",
            "(x) [0, -10, 10, 0, 0, 0, 0, 0, 0, 0]\n",
            "(y) [0, 28, -1, 0, 0, 0, -1, 0, 0, 0]\n",
            "(z) [0, 0, 0, -2.67, 0, 1, 0, 0, 0, 0]\n",
            "[[-0.1 -9.9  9.9  0.   0.  -0.  -0.   0.   0.  -0. ]\n",
            " [ 1.9 27.4 -0.7 -0.2 -0.   0.  -1.  -0.  -0.   0. ]\n",
            " [-0.   0.   0.  -2.7  0.   1.  -0.  -0.   0.  -0. ]]\n"
          ],
          "name": "stdout"
        }
      ]
    },
    {
      "cell_type": "markdown",
      "metadata": {
        "id": "z0VOd7kYowzq",
        "colab_type": "text"
      },
      "source": [
        "## Hacemos ajustes iterativos tirando en cada paso los términos chicos"
      ]
    },
    {
      "cell_type": "code",
      "metadata": {
        "id": "FEIiO6FT4eFB",
        "colab_type": "code",
        "colab": {
          "base_uri": "https://localhost:8080/",
          "height": 136
        },
        "outputId": "f8e0f2ee-ffd5-4682-e8d3-ded1dbc54f1f"
      },
      "source": [
        "# Definimos un umbral para los parámetros\n",
        "threshold = 0.01\n",
        "Xi = np.zeros_like(clf.coef_)\n",
        "Xi[:] = clf.coef_\n",
        "clf2 = linear_model.Lasso(alpha=alpha_reg, max_iter=100000000,\n",
        "                          fit_intercept=False, normalize=False)\n",
        "# Vamos a hacer 10 iteraciones\n",
        "for k in range(10):\n",
        "    # Buscamos los indices donde los coeficientes dan \"chicos\"\n",
        "    small_inds = (np.abs(Xi) < threshold)\n",
        "    # Los mandamos a 0\n",
        "    Xi[small_inds] = 0\n",
        "    # Ajustamos cada ecuación, mirando solo los coeficientes que dieron \"grandes\"\n",
        "    for i in range(len(Xi)):\n",
        "        # Buscamos coeficientes grandes\n",
        "        big_inds = np.where(np.abs(Xi[i, :]) > threshold)[0]\n",
        "        # Ajustamos\n",
        "        ajuste = clf2.fit(theta[:, big_inds], derivs[:, i])\n",
        "        # Actualizamos los coeficientes\n",
        "        Xi[i, big_inds] = ajuste.coef_\n",
        "\n",
        "np.set_printoptions(precision=2)\n",
        "print(Xi)\n",
        "# Valores reales del sistema de ecuaciones\n",
        "print('Real:')\n",
        "print('(x) [0, {}, {}, 0, 0, 0, 0, 0, 0, 0]'.format(-a, a))\n",
        "print('(y) [0, {}, -1, 0, 0, 0, -1, 0, 0, 0]'.format(r))\n",
        "print('(z) [0, 0, 0, {:.2f}, 0, 1, 0, 0, 0, 0]'.format(-b))\n"
      ],
      "execution_count": null,
      "outputs": [
        {
          "output_type": "stream",
          "text": [
            "[[ 0.   -9.98 10.    0.    0.    0.    0.    0.    0.    0.  ]\n",
            " [ 0.   27.61 -0.84  0.    0.    0.   -0.99  0.    0.    0.  ]\n",
            " [ 0.    0.    0.   -2.66  0.    1.    0.    0.    0.    0.  ]]\n",
            "Real:\n",
            "(x) [0, -10, 10, 0, 0, 0, 0, 0, 0, 0]\n",
            "(y) [0, 28, -1, 0, 0, 0, -1, 0, 0, 0]\n",
            "(z) [0, 0, 0, -2.67, 0, 1, 0, 0, 0, 0]\n"
          ],
          "name": "stdout"
        }
      ]
    },
    {
      "cell_type": "markdown",
      "metadata": {
        "id": "ZvCIIBSisSJc",
        "colab_type": "text"
      },
      "source": [
        "## Ejercicio: luces y sombras\n",
        "a) Estudie cómo cambia el ajuste con el parámetro de regularización del ajuste.\n",
        "Pruebe, por ejemplo en el rango:\n",
        "$$\\lambda = 0.000001 - 0.001 $$\n"
      ]
    },
    {
      "cell_type": "code",
      "metadata": {
        "id": "cZKhmcHJCaDq",
        "colab_type": "code",
        "colab": {}
      },
      "source": [
        ""
      ],
      "execution_count": null,
      "outputs": []
    },
    {
      "cell_type": "markdown",
      "metadata": {
        "id": "rlUmjrerCYqn",
        "colab_type": "text"
      },
      "source": [
        "\n",
        "b) ¿Cuánta información necesita? Intente reconstruir las ecuaciones usando tiras de datos de distinta longitud. Por ejemplo, utilice los primeros 1000, 3000, 10000,.. puntos de las series temporales"
      ]
    },
    {
      "cell_type": "code",
      "metadata": {
        "id": "iyWOSVr0v6Ur",
        "colab_type": "code",
        "colab": {}
      },
      "source": [
        ""
      ],
      "execution_count": null,
      "outputs": []
    },
    {
      "cell_type": "markdown",
      "metadata": {
        "id": "RVpY3c01zWhb",
        "colab_type": "text"
      },
      "source": [
        "## Ejercicio: sistemas amigos\n",
        "En el repositorio ([link](https://github.com/jfdoppler/DNL-1c2020/tree/master/data)) también podrán encontrar una variedad de series temporales de distintos sistemas (simulados). Sabiendo que se trata de sistemas con los que hemos trabajado en el curso, intente reconstruirlos.\n",
        "\n",
        "Antes de mandarse, piense qué términos debería incluir en su librería."
      ]
    },
    {
      "cell_type": "markdown",
      "metadata": {
        "id": "DLAtlp_p3nvD",
        "colab_type": "text"
      },
      "source": [
        "### Cargar datos"
      ]
    },
    {
      "cell_type": "code",
      "metadata": {
        "id": "xuF0ZxYQ1Ifh",
        "colab_type": "code",
        "colab": {
          "base_uri": "https://localhost:8080/",
          "height": 419
        },
        "outputId": "46d5b208-2981-48a7-d29e-0f99a75ea2f2"
      },
      "source": [
        "data = pd.read_csv('https://github.com/jfdoppler/DNL-1c2020/blob/master/data/osc_arm.csv?raw=true')\n",
        "data"
      ],
      "execution_count": null,
      "outputs": [
        {
          "output_type": "execute_result",
          "data": {
            "text/html": [
              "<div>\n",
              "<style scoped>\n",
              "    .dataframe tbody tr th:only-of-type {\n",
              "        vertical-align: middle;\n",
              "    }\n",
              "\n",
              "    .dataframe tbody tr th {\n",
              "        vertical-align: top;\n",
              "    }\n",
              "\n",
              "    .dataframe thead th {\n",
              "        text-align: right;\n",
              "    }\n",
              "</style>\n",
              "<table border=\"1\" class=\"dataframe\">\n",
              "  <thead>\n",
              "    <tr style=\"text-align: right;\">\n",
              "      <th></th>\n",
              "      <th>t</th>\n",
              "      <th>x</th>\n",
              "      <th>y</th>\n",
              "    </tr>\n",
              "  </thead>\n",
              "  <tbody>\n",
              "    <tr>\n",
              "      <th>0</th>\n",
              "      <td>0.0</td>\n",
              "      <td>0.000000</td>\n",
              "      <td>-1.000000</td>\n",
              "    </tr>\n",
              "    <tr>\n",
              "      <th>1</th>\n",
              "      <td>0.1</td>\n",
              "      <td>-0.100000</td>\n",
              "      <td>-1.000000</td>\n",
              "    </tr>\n",
              "    <tr>\n",
              "      <th>2</th>\n",
              "      <td>0.2</td>\n",
              "      <td>-0.200000</td>\n",
              "      <td>-1.000000</td>\n",
              "    </tr>\n",
              "    <tr>\n",
              "      <th>3</th>\n",
              "      <td>0.3</td>\n",
              "      <td>-0.300000</td>\n",
              "      <td>-0.999999</td>\n",
              "    </tr>\n",
              "    <tr>\n",
              "      <th>4</th>\n",
              "      <td>0.4</td>\n",
              "      <td>-0.400000</td>\n",
              "      <td>-0.999998</td>\n",
              "    </tr>\n",
              "    <tr>\n",
              "      <th>...</th>\n",
              "      <td>...</td>\n",
              "      <td>...</td>\n",
              "      <td>...</td>\n",
              "    </tr>\n",
              "    <tr>\n",
              "      <th>99995</th>\n",
              "      <td>9999.5</td>\n",
              "      <td>52.957340</td>\n",
              "      <td>-0.964307</td>\n",
              "    </tr>\n",
              "    <tr>\n",
              "      <th>99996</th>\n",
              "      <td>9999.6</td>\n",
              "      <td>52.860903</td>\n",
              "      <td>-0.964439</td>\n",
              "    </tr>\n",
              "    <tr>\n",
              "      <th>99997</th>\n",
              "      <td>9999.7</td>\n",
              "      <td>52.764452</td>\n",
              "      <td>-0.964571</td>\n",
              "    </tr>\n",
              "    <tr>\n",
              "      <th>99998</th>\n",
              "      <td>9999.8</td>\n",
              "      <td>52.667988</td>\n",
              "      <td>-0.964703</td>\n",
              "    </tr>\n",
              "    <tr>\n",
              "      <th>99999</th>\n",
              "      <td>9999.9</td>\n",
              "      <td>52.571512</td>\n",
              "      <td>-0.964834</td>\n",
              "    </tr>\n",
              "  </tbody>\n",
              "</table>\n",
              "<p>100000 rows × 3 columns</p>\n",
              "</div>"
            ],
            "text/plain": [
              "            t          x         y\n",
              "0         0.0   0.000000 -1.000000\n",
              "1         0.1  -0.100000 -1.000000\n",
              "2         0.2  -0.200000 -1.000000\n",
              "3         0.3  -0.300000 -0.999999\n",
              "4         0.4  -0.400000 -0.999998\n",
              "...       ...        ...       ...\n",
              "99995  9999.5  52.957340 -0.964307\n",
              "99996  9999.6  52.860903 -0.964439\n",
              "99997  9999.7  52.764452 -0.964571\n",
              "99998  9999.8  52.667988 -0.964703\n",
              "99999  9999.9  52.571512 -0.964834\n",
              "\n",
              "[100000 rows x 3 columns]"
            ]
          },
          "metadata": {
            "tags": []
          },
          "execution_count": 2
        }
      ]
    },
    {
      "cell_type": "markdown",
      "metadata": {
        "id": "HfokC3rz3qpJ",
        "colab_type": "text"
      },
      "source": [
        "### Recuperar series temporales"
      ]
    },
    {
      "cell_type": "code",
      "metadata": {
        "id": "r1-_HeLL1KAu",
        "colab_type": "code",
        "colab": {
          "base_uri": "https://localhost:8080/",
          "height": 282
        },
        "outputId": "d6f1f4e8-d80d-4573-d789-fb5d04dc0942"
      },
      "source": [
        "t = data.t\n",
        "dt = t[1]-t[0]\n",
        "xt = data.x\n",
        "yt = data.y\n",
        "plt.plot(xt, yt)"
      ],
      "execution_count": null,
      "outputs": [
        {
          "output_type": "execute_result",
          "data": {
            "text/plain": [
              "[<matplotlib.lines.Line2D at 0x7fbb82bca6d8>]"
            ]
          },
          "metadata": {
            "tags": []
          },
          "execution_count": 6
        },
        {
          "output_type": "display_data",
          "data": {
            "image/png": "[encoded data removed]",
            "text/plain": [
              "<Figure size 432x288 with 1 Axes>"
            ]
          },
          "metadata": {
            "tags": [],
            "needs_background": "light"
          }
        }
      ]
    },
    {
      "cell_type": "code",
      "metadata": {
        "id": "Ev6Yk38y1PVY",
        "colab_type": "code",
        "colab": {}
      },
      "source": [
        "# Construimos la matriz de derivadas\n",
        "derivs = ...\n",
        "\n",
        "# Librería de funciones hasta el orden que querramos\n",
        "theta = ...\n",
        "\n",
        "# Definimos el tipo de regresión lineal\n",
        "alpha_reg = ...\n",
        "clf = linear_model.Lasso(alpha=alpha_reg, max_iter=100000000,\n",
        "                         fit_intercept=False, normalize=False)\n",
        "\n",
        "# Hacemos el ajuste\n",
        "clf.fit(theta, derivs)\n",
        "print(clf.coef_)"
      ],
      "execution_count": null,
      "outputs": []
    }
  ]
}